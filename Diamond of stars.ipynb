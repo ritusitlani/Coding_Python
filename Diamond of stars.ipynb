{
 "cells": [
  {
   "cell_type": "markdown",
   "metadata": {},
   "source": [
    "\n",
    "   ***\n",
    "  *****\n",
    " *******\n",
    "*********\n",
    " ********\n",
    "  ******\n",
    "   ****\n",
    "    *"
   ]
  },
  {
   "cell_type": "code",
   "execution_count": 2,
   "metadata": {},
   "outputs": [
    {
     "name": "stdout",
     "output_type": "stream",
     "text": [
      "10\n",
      "    *\n",
      "   ***\n",
      "  *****\n",
      " *******\n",
      "*********\n",
      " ********\n",
      "  ******\n",
      "   ****\n",
      "    **\n"
     ]
    }
   ],
   "source": [
    "n=int(input())\n",
    "n1=(n+1)/2\n",
    "n2=n1-1\n",
    "i=1\n",
    "while i<=n1:\n",
    "    spaces=1\n",
    "    while spaces<=n1-i:\n",
    "        print(\" \",end=\"\")\n",
    "        spaces=spaces+1\n",
    "    star=1\n",
    "    while star<=2*i-1:\n",
    "        print(\"*\",end=\"\")\n",
    "        star=star+1\n",
    "    print()\n",
    "    i=i+1\n",
    "i=n2\n",
    "while i>=1:\n",
    "    space=1\n",
    "    while space<=n2-i+1:\n",
    "        print(\" \",end=\"\")\n",
    "        space=space+1\n",
    "    stars=1\n",
    "    while stars<=2*i-1:\n",
    "        print(\"*\",end=\"\")\n",
    "        stars=stars+1\n",
    "    print()\n",
    "    i = i-1\n",
    "    "
   ]
  }
 ],
 "metadata": {
  "kernelspec": {
   "display_name": "Python 3",
   "language": "python",
   "name": "python3"
  },
  "language_info": {
   "codemirror_mode": {
    "name": "ipython",
    "version": 3
   },
   "file_extension": ".py",
   "mimetype": "text/x-python",
   "name": "python",
   "nbconvert_exporter": "python",
   "pygments_lexer": "ipython3",
   "version": "3.8.5"
  }
 },
 "nbformat": 4,
 "nbformat_minor": 4
}
