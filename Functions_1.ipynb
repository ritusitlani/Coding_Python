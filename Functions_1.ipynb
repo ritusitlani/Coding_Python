{
 "cells": [
  {
   "cell_type": "code",
   "execution_count": 7,
   "metadata": {},
   "outputs": [
    {
     "name": "stdout",
     "output_type": "stream",
     "text": [
      "4\n",
      "2\n",
      "6.0\n"
     ]
    }
   ],
   "source": [
    "#Ncr without function\n",
    "n=int(input())\n",
    "r=int(input())\n",
    "#find n!\n",
    "#find r!\n",
    "#find (n-r)!\n",
    "#n! = 1*2*3*...*n\n",
    "n_fact=1\n",
    "for i in range(1,n+1,1):\n",
    "    n_fact=n_fact*i\n",
    "r_fact=1\n",
    "for i in range (1,r+1,1):\n",
    "    r_fact=r_fact*i\n",
    "n_r_fact=1\n",
    "for i in range (1,n-r+1,1):\n",
    "    n_r_fact=n_r_fact*i\n",
    "ans=n_fact/(r_fact*n_r_fact)\n",
    "print(ans)"
   ]
  },
  {
   "cell_type": "markdown",
   "metadata": {},
   "source": [
    "Using Function"
   ]
  },
  {
   "cell_type": "code",
   "execution_count": 8,
   "metadata": {},
   "outputs": [],
   "source": [
    "def fact(n):\n",
    "    n_fact=1\n",
    "    for i in range(1,n+1,1):\n",
    "        n_fact=n_fact*i\n",
    "    return n_fact"
   ]
  },
  {
   "cell_type": "code",
   "execution_count": 11,
   "metadata": {},
   "outputs": [
    {
     "data": {
      "text/plain": [
       "6"
      ]
     },
     "execution_count": 11,
     "metadata": {},
     "output_type": "execute_result"
    }
   ],
   "source": [
    "fact(3)"
   ]
  },
  {
   "cell_type": "markdown",
   "metadata": {},
   "source": [
    "SECOND IMPLEMENTATION"
   ]
  },
  {
   "cell_type": "code",
   "execution_count": 16,
   "metadata": {},
   "outputs": [
    {
     "name": "stdout",
     "output_type": "stream",
     "text": [
      "4\n",
      "2\n",
      "6.0\n"
     ]
    }
   ],
   "source": [
    "def fact(n):\n",
    "    n_fact=1\n",
    "    for i in range(1,n+1,1):\n",
    "        n_fact=n_fact*i\n",
    "    return n_fact\n",
    "\n",
    "n=int(input())\n",
    "r=int(input())\n",
    "n_fact=fact(n)\n",
    "r_fact=fact(r)\n",
    "n_r_fact=fact(n-r)\n",
    "ans=n_fact/(r_fact*n_r_fact)\n",
    "print (ans)"
   ]
  },
  {
   "cell_type": "code",
   "execution_count": null,
   "metadata": {},
   "outputs": [],
   "source": []
  }
 ],
 "metadata": {
  "kernelspec": {
   "display_name": "Python 3",
   "language": "python",
   "name": "python3"
  },
  "language_info": {
   "codemirror_mode": {
    "name": "ipython",
    "version": 3
   },
   "file_extension": ".py",
   "mimetype": "text/x-python",
   "name": "python",
   "nbconvert_exporter": "python",
   "pygments_lexer": "ipython3",
   "version": "3.8.5"
  }
 },
 "nbformat": 4,
 "nbformat_minor": 4
}
